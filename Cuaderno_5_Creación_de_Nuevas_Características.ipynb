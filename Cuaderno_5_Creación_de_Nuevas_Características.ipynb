{
  "nbformat": 4,
  "nbformat_minor": 0,
  "metadata": {
    "colab": {
      "provenance": [],
      "include_colab_link": true
    },
    "kernelspec": {
      "name": "python3",
      "display_name": "Python 3"
    },
    "language_info": {
      "name": "python"
    }
  },
  "cells": [
    {
      "cell_type": "markdown",
      "metadata": {
        "id": "view-in-github",
        "colab_type": "text"
      },
      "source": [
        "<a href=\"https://colab.research.google.com/github/M4teoSandoval/Clase-Inteligencia-Artificiall/blob/main/Cuaderno_5_Creaci%C3%B3n_de_Nuevas_Caracter%C3%ADsticas.ipynb\" target=\"_parent\"><img src=\"https://colab.research.google.com/assets/colab-badge.svg\" alt=\"Open In Colab\"/></a>"
      ]
    },
    {
      "cell_type": "markdown",
      "source": [
        "# <font color=\"red\">Cuaderno 5: Creación de Nuevas Características\n",
        "La creación de nuevas características (feature engineering) es un paso crucial en el preprocesamiento de datos, ya que puede mejorar la capacidad predictiva de los modelos al transformar y combinar los datos originales. En este Sesion, exploraremos estrategias para crear características basadas en datos existentes y ejemplos prácticos para cada caso.\n",
        "\n",
        "\n",
        "---\n",
        "\n",
        "## <font color=\"red\">5.1 Combinación y Transformación de Características Existentes\n",
        "La combinación de características implica usar variables existentes para generar nuevas que reflejen relaciones entre ellas.\n",
        "### Ejemplo: Crear una relación entre dos columnas\n"
      ],
      "metadata": {
        "id": "W7OTDAf8Ew-j"
      }
    },
    {
      "cell_type": "code",
      "execution_count": null,
      "metadata": {
        "colab": {
          "base_uri": "https://localhost:8080/"
        },
        "collapsed": true,
        "id": "yg8nPjpUEqFc",
        "outputId": "4efbcc71-056e-4a30-c81f-c2d0db4786ab"
      },
      "outputs": [
        {
          "output_type": "stream",
          "name": "stdout",
          "text": [
            "Datos con nueva característica:\n",
            "    Precio  Cantidad  Total\n",
            "0     100         2    200\n",
            "1     200         5   1000\n",
            "2     150         3    450\n",
            "3     300         8   2400\n"
          ]
        }
      ],
      "source": [
        "import pandas as pd\n",
        "\n",
        "# Dataset de ejemplo\n",
        "data = pd.DataFrame({\n",
        "    \"Precio\": [100, 200, 150, 300],\n",
        "    \"Cantidad\": [2, 5, 3, 8]\n",
        "})\n",
        "\n",
        "# Crear una nueva característica: Total\n",
        "data[\"Total\"] = data[\"Precio\"] * data[\"Cantidad\"]\n",
        "print(\"Datos con nueva característica:\\n\", data)\n"
      ]
    },
    {
      "cell_type": "markdown",
      "source": [
        "## <font color=\"red\">5.2 Generación de Características Temporales\n",
        "Los datos con marcas de tiempo pueden enriquecerse extrayendo información útil como año, mes, día, hora o día de la semana.\n",
        "### Ejemplo: Procesamiento de características temporales\n"
      ],
      "metadata": {
        "id": "JUoq62HPFLzC"
      }
    },
    {
      "cell_type": "code",
      "source": [
        "# Agregar fechas al dataset\n",
        "data[\"Fecha\"] = pd.to_datetime([\"2023-01-01\", \"2023-01-15\", \"2023-02-10\", \"2023-03-01\"])\n",
        "\n",
        "# Extraer características temporales\n",
        "data[\"Año\"] = data[\"Fecha\"].dt.year\n",
        "data[\"Mes\"] = data[\"Fecha\"].dt.month\n",
        "data[\"Día\"] = data[\"Fecha\"].dt.day\n",
        "data[\"Día_Semana\"] = data[\"Fecha\"].dt.day_name()\n",
        "print(\"Datos con características temporales:\\n\", data)\n"
      ],
      "metadata": {
        "collapsed": true,
        "colab": {
          "base_uri": "https://localhost:8080/"
        },
        "id": "XIZnBPFdFS7q",
        "outputId": "4322bdd9-5fa1-4541-9ede-b26b6a05f716"
      },
      "execution_count": null,
      "outputs": [
        {
          "output_type": "stream",
          "name": "stdout",
          "text": [
            "Datos con características temporales:\n",
            "    Precio  Cantidad  Total      Fecha   Año  Mes  Día Día_Semana\n",
            "0     100         2    200 2023-01-01  2023    1    1     Sunday\n",
            "1     200         5   1000 2023-01-15  2023    1   15     Sunday\n",
            "2     150         3    450 2023-02-10  2023    2   10     Friday\n",
            "3     300         8   2400 2023-03-01  2023    3    1  Wednesday\n"
          ]
        }
      ]
    },
    {
      "cell_type": "markdown",
      "source": [
        "## <font color=\"red\">5.3 Extracción de Características a partir de Texto\n",
        "El procesamiento de texto permite transformar datos no estructurados en representaciones numéricas útiles.\n",
        "### <font color=\"blue\">5.3.1 Tokenización y Conteo de Palabras\n",
        "La tokenización divide el texto en palabras o frases, y el conteo de palabras mide la frecuencia de términos en un texto.\n"
      ],
      "metadata": {
        "id": "jYALC3kiFW_Y"
      }
    },
    {
      "cell_type": "code",
      "source": [
        "from sklearn.feature_extraction.text import CountVectorizer\n",
        "\n",
        "# Datos de texto\n",
        "data_texto = pd.DataFrame({\n",
        "    \"Texto\": [\"Hola mundo\", \"Machine learning es increíble\", \"Python es popular\"]\n",
        "})\n",
        "\n",
        "# Vectorizador de palabras\n",
        "vectorizer = CountVectorizer()\n",
        "matriz_frecuencia = vectorizer.fit_transform(data_texto[\"Texto\"])\n",
        "\n",
        "# Mostrar el vocabulario y la matriz\n",
        "print(\"\\nVocabulario:\", vectorizer.get_feature_names_out())\n",
        "print(\"Matriz de frecuencia:\\n\", matriz_frecuencia.toarray())\n"
      ],
      "metadata": {
        "collapsed": true,
        "colab": {
          "base_uri": "https://localhost:8080/"
        },
        "id": "fZgwwch6FpFR",
        "outputId": "528edcd5-da04-49fe-f092-ae32105c8e2a"
      },
      "execution_count": null,
      "outputs": [
        {
          "output_type": "stream",
          "name": "stdout",
          "text": [
            "\n",
            "Vocabulario: ['es' 'hola' 'increíble' 'learning' 'machine' 'mundo' 'popular' 'python']\n",
            "Matriz de frecuencia:\n",
            " [[0 1 0 0 0 1 0 0]\n",
            " [1 0 1 1 1 0 0 0]\n",
            " [1 0 0 0 0 0 1 1]]\n"
          ]
        }
      ]
    },
    {
      "cell_type": "markdown",
      "source": [
        "## <font color=\"red\">5.4 Extracción de Características Geoespaciales\n",
        "Los datos geoespaciales pueden enriquecerse mediante cálculos como distancias, regiones o agrupaciones espaciales.\n",
        "### Ejemplo: Distancia entre coordenadas\n",
        "Utilizamos la fórmula de Haversine para calcular la distancia entre dos puntos geográficos.\n"
      ],
      "metadata": {
        "id": "VBHqug5IF0wJ"
      }
    },
    {
      "cell_type": "code",
      "source": [
        "from geopy.distance import geodesic\n",
        "\n",
        "\n",
        "# Coordenadas de dos ubicaciones\n",
        "data_geo = pd.DataFrame({\n",
        "    \"Latitud\": [19.4326, 40.7128],  # Ciudad de México, Nueva York\n",
        "    \"Longitud\": [-99.1332, -74.0060]\n",
        "})\n",
        "\n",
        "\n",
        "# Calcular distancias desde un punto de referencia\n",
        "referencia = (19.4326, -99.1332)  # Ciudad de México\n",
        "data_geo[\"Distancia_km\"] = data_geo.apply(\n",
        "    lambda row: geodesic(referencia, (row[\"Latitud\"], row[\"Longitud\"])).kilometers, axis=1\n",
        ")\n",
        "print(\"\\nDatos con distancia geoespacial:\\n\", data_geo)"
      ],
      "metadata": {
        "colab": {
          "base_uri": "https://localhost:8080/"
        },
        "collapsed": true,
        "id": "KVB7g4_wF9Dy",
        "outputId": "bea4bca2-ee94-4b93-ff39-f46b45285b84"
      },
      "execution_count": null,
      "outputs": [
        {
          "output_type": "stream",
          "name": "stdout",
          "text": [
            "\n",
            "Datos con distancia geoespacial:\n",
            "    Latitud  Longitud  Distancia_km\n",
            "0  19.4326  -99.1332        0.0000\n",
            "1  40.7128  -74.0060     3357.6952\n"
          ]
        }
      ]
    },
    {
      "cell_type": "code",
      "source": [
        "# prompt: crear un dataframe con datos sinteticos que tenga la edad que va de 17 a22 años, la ubicacion (latitud y longitud) en la  periferia de bucarammanga, el nombre de el estudiante, la nota de inteligencia artificial de 1 a 5, por favor dame 100 datos de estudiantes\n",
        "\n",
        "import pandas as pd\n",
        "import numpy as np\n",
        "\n",
        "# Número de estudiantes\n",
        "num_estudiantes = 100\n",
        "\n",
        "# Crear datos sintéticos\n",
        "edades = np.random.randint(17, 23, num_estudiantes)\n",
        "latitudes = np.random.uniform(7.10, 7.15, num_estudiantes)  # Periferia de Bucaramanga (aproximado)\n",
        "longitudes = np.random.uniform(-73.15, -73.10, num_estudiantes) # Periferia de Bucaramanga (aproximado)\n",
        "nombres = [f\"Estudiante_{i}\" for i in range(1, num_estudiantes + 1)]\n",
        "notas_ia = np.random.randint(1, 6, num_estudiantes)\n",
        "\n",
        "# Crear DataFrame\n",
        "data = {\n",
        "    'edad': edades,\n",
        "    'latitud': latitudes,\n",
        "    'longitud': longitudes,\n",
        "    'nombre': nombres,\n",
        "    'nota_ia': notas_ia\n",
        "}\n",
        "df = pd.DataFrame(data)\n",
        "\n",
        "print(df.head())\n"
      ],
      "metadata": {
        "id": "SrqF7BlMlQV9",
        "outputId": "b04e9219-9501-4eac-c1f5-becfe95ff589",
        "colab": {
          "base_uri": "https://localhost:8080/"
        }
      },
      "execution_count": 6,
      "outputs": [
        {
          "output_type": "stream",
          "name": "stdout",
          "text": [
            "   edad   latitud   longitud        nombre  nota_ia\n",
            "0    18  7.103359 -73.123080  Estudiante_1        3\n",
            "1    19  7.120262 -73.116917  Estudiante_2        2\n",
            "2    22  7.124873 -73.113107  Estudiante_3        3\n",
            "3    18  7.136010 -73.123992  Estudiante_4        5\n",
            "4    20  7.105329 -73.128659  Estudiante_5        5\n"
          ]
        }
      ]
    },
    {
      "cell_type": "code",
      "source": [
        "# prompt: necesito que se muestre la distancia en km desde la UNAB bucaramanga a cada una de esas casas\n",
        "\n",
        "# Coordenadas de la UNAB Bucaramanga (aproximadas, debes reemplazarlas con las coordenadas exactas)\n",
        "unab_bucaramanga = (7.1234, -73.1234)\n",
        "\n",
        "# Calcular distancias\n",
        "df['distancia_unab_km'] = df.apply(\n",
        "    lambda row: geodesic(unab_bucaramanga, (row['latitud'], row['longitud'])).kilometers, axis=1\n",
        ")\n",
        "\n",
        "print(df[['nombre', 'latitud', 'longitud', 'distancia_unab_km']])\n"
      ],
      "metadata": {
        "id": "WaOHn5PDoiuE",
        "outputId": "0895cfa0-a773-4dd2-e2f1-ed1919bfc6fc",
        "colab": {
          "base_uri": "https://localhost:8080/"
        }
      },
      "execution_count": 7,
      "outputs": [
        {
          "output_type": "stream",
          "name": "stdout",
          "text": [
            "            nombre   latitud   longitud  distancia_unab_km\n",
            "0     Estudiante_1  7.103359 -73.123080           2.216668\n",
            "1     Estudiante_2  7.120262 -73.116917           0.795764\n",
            "2     Estudiante_3  7.124873 -73.113107           1.148615\n",
            "3     Estudiante_4  7.136010 -73.123992           1.396102\n",
            "4     Estudiante_5  7.105329 -73.128659           2.081234\n",
            "..             ...       ...        ...                ...\n",
            "95   Estudiante_96  7.126513 -73.100426           2.561059\n",
            "96   Estudiante_97  7.122052 -73.146924           2.602896\n",
            "97   Estudiante_98  7.120224 -73.105855           1.969730\n",
            "98   Estudiante_99  7.128621 -73.124196           0.584098\n",
            "99  Estudiante_100  7.140199 -73.104674           2.780323\n",
            "\n",
            "[100 rows x 4 columns]\n"
          ]
        }
      ]
    },
    {
      "cell_type": "code",
      "source": [
        "# prompt: haz el mapa con mapbox\n",
        "\n",
        "import pandas as pd\n",
        "from geopy.distance import geodesic\n",
        "import plotly.express as px\n",
        "\n",
        "# ... (Your existing code) ...\n",
        "\n",
        "# Assuming 'df' is your DataFrame with 'latitud', 'longitud', and 'distancia_unab_km'\n",
        "\n",
        "# Create the map\n",
        "fig = px.scatter_mapbox(df,\n",
        "                        lat=\"latitud\",\n",
        "                        lon=\"longitud\",\n",
        "                        hover_name=\"nombre\",\n",
        "                        hover_data=[\"distancia_unab_km\", \"edad\", \"nota_ia\"],\n",
        "                        color=\"nota_ia\",\n",
        "                        zoom=12,\n",
        "                        height=600,\n",
        "                        width=800,\n",
        "                        mapbox_style=\"open-street-map\")\n",
        "\n",
        "fig.update_layout(margin={\"r\":0,\"t\":0,\"l\":0,\"b\":0})\n",
        "\n",
        "fig.show()\n"
      ],
      "metadata": {
        "id": "Tx9vL1jGpmOd",
        "outputId": "57afcc03-ca84-461b-9527-1388a9c4615a",
        "colab": {
          "base_uri": "https://localhost:8080/",
          "height": 617
        }
      },
      "execution_count": 8,
      "outputs": [
        {
          "output_type": "display_data",
          "data": {
            "text/html": [
              "<html>\n",
              "<head><meta charset=\"utf-8\" /></head>\n",
              "<body>\n",
              "    <div>            <script src=\"https://cdnjs.cloudflare.com/ajax/libs/mathjax/2.7.5/MathJax.js?config=TeX-AMS-MML_SVG\"></script><script type=\"text/javascript\">if (window.MathJax && window.MathJax.Hub && window.MathJax.Hub.Config) {window.MathJax.Hub.Config({SVG: {font: \"STIX-Web\"}});}</script>                <script type=\"text/javascript\">window.PlotlyConfig = {MathJaxConfig: 'local'};</script>\n",
              "        <script charset=\"utf-8\" src=\"https://cdn.plot.ly/plotly-2.35.2.min.js\"></script>                <div id=\"8e02dd3c-9966-4833-a9b9-a90536d15385\" class=\"plotly-graph-div\" style=\"height:600px; width:800px;\"></div>            <script type=\"text/javascript\">                                    window.PLOTLYENV=window.PLOTLYENV || {};                                    if (document.getElementById(\"8e02dd3c-9966-4833-a9b9-a90536d15385\")) {                    Plotly.newPlot(                        \"8e02dd3c-9966-4833-a9b9-a90536d15385\",                        [{\"customdata\":[[2.216667790583777,18.0,3.0],[0.7957636929298012,19.0,2.0],[1.148614950744942,22.0,3.0],[1.3961019359888918,18.0,5.0],[2.081234339342646,20.0,5.0],[2.6293133289821062,17.0,1.0],[1.2947281872079413,20.0,3.0],[1.1794953477203631,18.0,4.0],[2.9227733150867694,21.0,1.0],[3.173330933514447,17.0,3.0],[2.120530246070829,17.0,3.0],[0.8304532343625706,19.0,1.0],[2.2878890390955657,19.0,5.0],[3.270885468125229,21.0,3.0],[2.907373925245015,22.0,5.0],[3.132738276623522,17.0,1.0],[2.4625000200004763,21.0,5.0],[2.8027264043204436,19.0,2.0],[2.7282448808750264,19.0,4.0],[1.5912992263767933,17.0,3.0],[2.5354215953898542,20.0,4.0],[1.8309339671746117,18.0,5.0],[3.2864140971677336,19.0,3.0],[2.3092287995766827,22.0,5.0],[0.17821420276310965,22.0,2.0],[2.7105296681788094,19.0,1.0],[3.238988644075877,20.0,3.0],[0.8647056187421418,20.0,2.0],[2.9610412325192925,21.0,2.0],[1.8153920322831774,22.0,3.0],[2.8726858790889276,21.0,5.0],[1.86816079309638,22.0,2.0],[1.4096668791629556,18.0,4.0],[2.35937152928695,18.0,2.0],[2.7184623735471813,17.0,5.0],[2.8826092479905148,21.0,5.0],[2.2061710790643696,19.0,4.0],[3.0733476587572244,21.0,2.0],[3.5712204926016664,19.0,5.0],[2.2716135886118027,20.0,3.0],[1.7354076882650136,21.0,1.0],[0.31426401188032715,20.0,1.0],[2.5795393326390084,18.0,1.0],[2.049131253249407,18.0,2.0],[0.4874268360132145,17.0,4.0],[2.435494931834938,21.0,5.0],[2.6259088237156183,20.0,3.0],[1.168270845519654,19.0,3.0],[3.369556453948293,18.0,2.0],[2.2748941966114766,18.0,1.0],[3.079535640055181,19.0,2.0],[3.2259206152501316,20.0,4.0],[3.0443946631611727,20.0,4.0],[3.039975035548754,21.0,5.0],[2.810202288233301,21.0,5.0],[2.046984210538741,22.0,4.0],[3.866173134399918,22.0,4.0],[2.947479265052228,17.0,4.0],[2.038392372386866,18.0,2.0],[1.5134654988131706,21.0,4.0],[2.1764650792418734,20.0,3.0],[3.222783713822546,19.0,1.0],[1.6075371853385934,20.0,4.0],[1.0116943710247732,18.0,1.0],[1.609763078177839,22.0,2.0],[2.06362246653623,20.0,1.0],[0.9403407968696111,17.0,2.0],[2.8432795482029087,18.0,3.0],[3.5174773107182653,22.0,2.0],[2.247206094744941,19.0,2.0],[1.3015257849660775,22.0,5.0],[2.35668285335394,17.0,4.0],[1.6334663163123173,18.0,4.0],[3.6100485832916402,19.0,3.0],[2.1119407742441862,17.0,3.0],[3.4521238754872914,22.0,4.0],[0.6366862600629234,17.0,5.0],[0.778380353844208,18.0,4.0],[1.6682539528532343,21.0,5.0],[1.9455459619292867,17.0,3.0],[3.060865575540501,17.0,1.0],[2.3338457742338234,22.0,3.0],[3.3655479540853834,22.0,3.0],[1.1497364034854536,19.0,2.0],[2.854333317092494,22.0,2.0],[1.899189963913033,20.0,2.0],[2.6710224585864113,18.0,2.0],[1.5445759844355187,18.0,5.0],[2.925839404157151,21.0,4.0],[1.3306607458619668,21.0,1.0],[2.8526845744997154,18.0,3.0],[0.5712291752032664,21.0,5.0],[2.4303237525130656,19.0,1.0],[2.3348807857074543,22.0,5.0],[3.0536820515838263,18.0,5.0],[2.561058942645713,21.0,3.0],[2.602896158079726,18.0,4.0],[1.9697298141655313,20.0,2.0],[0.5840977205456623,17.0,4.0],[2.7803230965316517,22.0,3.0]],\"hovertemplate\":\"\\u003cb\\u003e%{hovertext}\\u003c\\u002fb\\u003e\\u003cbr\\u003e\\u003cbr\\u003elatitud=%{lat}\\u003cbr\\u003elongitud=%{lon}\\u003cbr\\u003edistancia_unab_km=%{customdata[0]}\\u003cbr\\u003eedad=%{customdata[1]}\\u003cbr\\u003enota_ia=%{marker.color}\\u003cextra\\u003e\\u003c\\u002fextra\\u003e\",\"hovertext\":[\"Estudiante_1\",\"Estudiante_2\",\"Estudiante_3\",\"Estudiante_4\",\"Estudiante_5\",\"Estudiante_6\",\"Estudiante_7\",\"Estudiante_8\",\"Estudiante_9\",\"Estudiante_10\",\"Estudiante_11\",\"Estudiante_12\",\"Estudiante_13\",\"Estudiante_14\",\"Estudiante_15\",\"Estudiante_16\",\"Estudiante_17\",\"Estudiante_18\",\"Estudiante_19\",\"Estudiante_20\",\"Estudiante_21\",\"Estudiante_22\",\"Estudiante_23\",\"Estudiante_24\",\"Estudiante_25\",\"Estudiante_26\",\"Estudiante_27\",\"Estudiante_28\",\"Estudiante_29\",\"Estudiante_30\",\"Estudiante_31\",\"Estudiante_32\",\"Estudiante_33\",\"Estudiante_34\",\"Estudiante_35\",\"Estudiante_36\",\"Estudiante_37\",\"Estudiante_38\",\"Estudiante_39\",\"Estudiante_40\",\"Estudiante_41\",\"Estudiante_42\",\"Estudiante_43\",\"Estudiante_44\",\"Estudiante_45\",\"Estudiante_46\",\"Estudiante_47\",\"Estudiante_48\",\"Estudiante_49\",\"Estudiante_50\",\"Estudiante_51\",\"Estudiante_52\",\"Estudiante_53\",\"Estudiante_54\",\"Estudiante_55\",\"Estudiante_56\",\"Estudiante_57\",\"Estudiante_58\",\"Estudiante_59\",\"Estudiante_60\",\"Estudiante_61\",\"Estudiante_62\",\"Estudiante_63\",\"Estudiante_64\",\"Estudiante_65\",\"Estudiante_66\",\"Estudiante_67\",\"Estudiante_68\",\"Estudiante_69\",\"Estudiante_70\",\"Estudiante_71\",\"Estudiante_72\",\"Estudiante_73\",\"Estudiante_74\",\"Estudiante_75\",\"Estudiante_76\",\"Estudiante_77\",\"Estudiante_78\",\"Estudiante_79\",\"Estudiante_80\",\"Estudiante_81\",\"Estudiante_82\",\"Estudiante_83\",\"Estudiante_84\",\"Estudiante_85\",\"Estudiante_86\",\"Estudiante_87\",\"Estudiante_88\",\"Estudiante_89\",\"Estudiante_90\",\"Estudiante_91\",\"Estudiante_92\",\"Estudiante_93\",\"Estudiante_94\",\"Estudiante_95\",\"Estudiante_96\",\"Estudiante_97\",\"Estudiante_98\",\"Estudiante_99\",\"Estudiante_100\"],\"lat\":[7.103358769995785,7.120262404401385,7.124873244698994,7.136010129081615,7.105328936506433,7.107000926933022,7.11318419013173,7.1133249196685435,7.1366092289229535,7.11253653302808,7.131654903167872,7.124713692506914,7.12866471890897,7.141905348158915,7.120219075077451,7.138545568853214,7.121101802977535,7.117693568828062,7.1479313588656614,7.109218546033948,7.10451684802888,7.138549296276774,7.103412485267704,7.141853949535152,7.121859669817862,7.145775683864596,7.136076643056096,7.130520233350398,7.1474653398528885,7.119832468652603,7.147704346826982,7.10675006387106,7.124187747096621,7.11349556111961,7.126992138945409,7.1081006938945785,7.142076483015503,7.142320392465728,7.147761815636175,7.107733607044161,7.13116662754525,7.123711865435019,7.117219186602211,7.117577008056711,7.120639677530337,7.135246277484447,7.1299143029134076,7.1229840756380565,7.103796670518481,7.103888267203947,7.100116969531289,7.148384969410355,7.100262690927919,7.105154687300687,7.115729827840471,7.140371512590838,7.148104939288206,7.139500677939593,7.134528011622282,7.126065033370678,7.104335260593109,7.147908539650197,7.137919620697284,7.131947469266713,7.137951792276943,7.136205166463657,7.131861578989475,7.149028840009,7.145168190631802,7.132333245955858,7.134658760572846,7.1025797903329355,7.133495873227502,7.102208271885504,7.129413187848496,7.149967674978292,7.127790329071859,7.123660505904066,7.115642742825279,7.106026128939323,7.136551183572914,7.109629951389281,7.105764101062364,7.121088132986525,7.139767091897955,7.137253227406011,7.102744130732323,7.122757184251808,7.126121728803558,7.132227332531291,7.132508367522162,7.118234862472865,7.128033859700175,7.124053094192204,7.144249917826165,7.126513256631745,7.122051608087408,7.1202242724840925,7.128621387971673,7.140198848970045],\"legendgroup\":\"\",\"lon\":[-73.12307992548097,-73.11691724124597,-73.11310721165466,-73.12399159450607,-73.12865914716726,-73.10616673110687,-73.12912469579861,-73.12690285747122,-73.1004829343329,-73.14998812382122,-73.14072635452116,-73.13080180550402,-73.10337050452873,-73.14649851471263,-73.14952572831858,-73.14736580820114,-73.14557282946933,-73.14812016133969,-73.12601093365717,-73.12096213963864,-73.13641565144655,-73.13008563080122,-73.14541503324443,-73.13318147680859,-73.12387404041827,-73.11338640964077,-73.14983268189786,-73.12663446167312,-73.13514985617726,-73.1073589089154,-73.11422233423829,-73.12054457327645,-73.13613671771516,-73.10448304489712,-73.14774496613899,-73.14452662006605,-73.13041849297298,-73.14377812213516,-73.10217921512202,-73.11010053389283,-73.13705086741992,-73.12057228855133,-73.10088347424599,-73.10579005109342,-73.11996007767789,-73.10481380164123,-73.10054075450932,-73.11283235885531,-73.14675067952587,-73.12992098817872,-73.10810871323584,-73.13847154020975,-73.10846787411246,-73.14398306189825,-73.14765273214262,-73.13079546942544,-73.14816340312868,-73.10213648685082,-73.1086897152103,-73.1099615156435,-73.1185111038502,-73.13918379884818,-73.12408698166618,-73.12013629637848,-73.12374842495699,-73.13698833160242,-73.12423760378427,-73.12544068295657,-73.10018321120965,-73.10512819259769,-73.12683096258922,-73.11885313085324,-73.11260641979538,-73.14825674198832,-73.1052539279386,-73.1069936591791,-73.12712839511131,-73.13044151169598,-73.13635203125719,-73.12616615858349,-73.14778116682335,-73.10739032333265,-73.14822888157907,-73.13354743173151,-73.10342052558404,-73.11323936727382,-73.13593045197112,-73.13736754530196,-73.14974589300911,-73.11521428535751,-73.14756082091634,-73.12336987402996,-73.10189390137039,-73.14452655699728,-73.10527600345159,-73.10042623324274,-73.14692414868804,-73.10585468654313,-73.12419604897782,-73.10467431402776],\"marker\":{\"color\":[3,2,3,5,5,1,3,4,1,3,3,1,5,3,5,1,5,2,4,3,4,5,3,5,2,1,3,2,2,3,5,2,4,2,5,5,4,2,5,3,1,1,1,2,4,5,3,3,2,1,2,4,4,5,5,4,4,4,2,4,3,1,4,1,2,1,2,3,2,2,5,4,4,3,3,4,5,4,5,3,1,3,3,2,2,2,2,5,4,1,3,5,1,5,5,3,4,2,4,3],\"coloraxis\":\"coloraxis\"},\"mode\":\"markers\",\"name\":\"\",\"showlegend\":false,\"subplot\":\"mapbox\",\"type\":\"scattermapbox\"}],                        {\"template\":{\"data\":{\"histogram2dcontour\":[{\"type\":\"histogram2dcontour\",\"colorbar\":{\"outlinewidth\":0,\"ticks\":\"\"},\"colorscale\":[[0.0,\"#0d0887\"],[0.1111111111111111,\"#46039f\"],[0.2222222222222222,\"#7201a8\"],[0.3333333333333333,\"#9c179e\"],[0.4444444444444444,\"#bd3786\"],[0.5555555555555556,\"#d8576b\"],[0.6666666666666666,\"#ed7953\"],[0.7777777777777778,\"#fb9f3a\"],[0.8888888888888888,\"#fdca26\"],[1.0,\"#f0f921\"]]}],\"choropleth\":[{\"type\":\"choropleth\",\"colorbar\":{\"outlinewidth\":0,\"ticks\":\"\"}}],\"histogram2d\":[{\"type\":\"histogram2d\",\"colorbar\":{\"outlinewidth\":0,\"ticks\":\"\"},\"colorscale\":[[0.0,\"#0d0887\"],[0.1111111111111111,\"#46039f\"],[0.2222222222222222,\"#7201a8\"],[0.3333333333333333,\"#9c179e\"],[0.4444444444444444,\"#bd3786\"],[0.5555555555555556,\"#d8576b\"],[0.6666666666666666,\"#ed7953\"],[0.7777777777777778,\"#fb9f3a\"],[0.8888888888888888,\"#fdca26\"],[1.0,\"#f0f921\"]]}],\"heatmap\":[{\"type\":\"heatmap\",\"colorbar\":{\"outlinewidth\":0,\"ticks\":\"\"},\"colorscale\":[[0.0,\"#0d0887\"],[0.1111111111111111,\"#46039f\"],[0.2222222222222222,\"#7201a8\"],[0.3333333333333333,\"#9c179e\"],[0.4444444444444444,\"#bd3786\"],[0.5555555555555556,\"#d8576b\"],[0.6666666666666666,\"#ed7953\"],[0.7777777777777778,\"#fb9f3a\"],[0.8888888888888888,\"#fdca26\"],[1.0,\"#f0f921\"]]}],\"heatmapgl\":[{\"type\":\"heatmapgl\",\"colorbar\":{\"outlinewidth\":0,\"ticks\":\"\"},\"colorscale\":[[0.0,\"#0d0887\"],[0.1111111111111111,\"#46039f\"],[0.2222222222222222,\"#7201a8\"],[0.3333333333333333,\"#9c179e\"],[0.4444444444444444,\"#bd3786\"],[0.5555555555555556,\"#d8576b\"],[0.6666666666666666,\"#ed7953\"],[0.7777777777777778,\"#fb9f3a\"],[0.8888888888888888,\"#fdca26\"],[1.0,\"#f0f921\"]]}],\"contourcarpet\":[{\"type\":\"contourcarpet\",\"colorbar\":{\"outlinewidth\":0,\"ticks\":\"\"}}],\"contour\":[{\"type\":\"contour\",\"colorbar\":{\"outlinewidth\":0,\"ticks\":\"\"},\"colorscale\":[[0.0,\"#0d0887\"],[0.1111111111111111,\"#46039f\"],[0.2222222222222222,\"#7201a8\"],[0.3333333333333333,\"#9c179e\"],[0.4444444444444444,\"#bd3786\"],[0.5555555555555556,\"#d8576b\"],[0.6666666666666666,\"#ed7953\"],[0.7777777777777778,\"#fb9f3a\"],[0.8888888888888888,\"#fdca26\"],[1.0,\"#f0f921\"]]}],\"surface\":[{\"type\":\"surface\",\"colorbar\":{\"outlinewidth\":0,\"ticks\":\"\"},\"colorscale\":[[0.0,\"#0d0887\"],[0.1111111111111111,\"#46039f\"],[0.2222222222222222,\"#7201a8\"],[0.3333333333333333,\"#9c179e\"],[0.4444444444444444,\"#bd3786\"],[0.5555555555555556,\"#d8576b\"],[0.6666666666666666,\"#ed7953\"],[0.7777777777777778,\"#fb9f3a\"],[0.8888888888888888,\"#fdca26\"],[1.0,\"#f0f921\"]]}],\"mesh3d\":[{\"type\":\"mesh3d\",\"colorbar\":{\"outlinewidth\":0,\"ticks\":\"\"}}],\"scatter\":[{\"fillpattern\":{\"fillmode\":\"overlay\",\"size\":10,\"solidity\":0.2},\"type\":\"scatter\"}],\"parcoords\":[{\"type\":\"parcoords\",\"line\":{\"colorbar\":{\"outlinewidth\":0,\"ticks\":\"\"}}}],\"scatterpolargl\":[{\"type\":\"scatterpolargl\",\"marker\":{\"colorbar\":{\"outlinewidth\":0,\"ticks\":\"\"}}}],\"bar\":[{\"error_x\":{\"color\":\"#2a3f5f\"},\"error_y\":{\"color\":\"#2a3f5f\"},\"marker\":{\"line\":{\"color\":\"#E5ECF6\",\"width\":0.5},\"pattern\":{\"fillmode\":\"overlay\",\"size\":10,\"solidity\":0.2}},\"type\":\"bar\"}],\"scattergeo\":[{\"type\":\"scattergeo\",\"marker\":{\"colorbar\":{\"outlinewidth\":0,\"ticks\":\"\"}}}],\"scatterpolar\":[{\"type\":\"scatterpolar\",\"marker\":{\"colorbar\":{\"outlinewidth\":0,\"ticks\":\"\"}}}],\"histogram\":[{\"marker\":{\"pattern\":{\"fillmode\":\"overlay\",\"size\":10,\"solidity\":0.2}},\"type\":\"histogram\"}],\"scattergl\":[{\"type\":\"scattergl\",\"marker\":{\"colorbar\":{\"outlinewidth\":0,\"ticks\":\"\"}}}],\"scatter3d\":[{\"type\":\"scatter3d\",\"line\":{\"colorbar\":{\"outlinewidth\":0,\"ticks\":\"\"}},\"marker\":{\"colorbar\":{\"outlinewidth\":0,\"ticks\":\"\"}}}],\"scattermapbox\":[{\"type\":\"scattermapbox\",\"marker\":{\"colorbar\":{\"outlinewidth\":0,\"ticks\":\"\"}}}],\"scatterternary\":[{\"type\":\"scatterternary\",\"marker\":{\"colorbar\":{\"outlinewidth\":0,\"ticks\":\"\"}}}],\"scattercarpet\":[{\"type\":\"scattercarpet\",\"marker\":{\"colorbar\":{\"outlinewidth\":0,\"ticks\":\"\"}}}],\"carpet\":[{\"aaxis\":{\"endlinecolor\":\"#2a3f5f\",\"gridcolor\":\"white\",\"linecolor\":\"white\",\"minorgridcolor\":\"white\",\"startlinecolor\":\"#2a3f5f\"},\"baxis\":{\"endlinecolor\":\"#2a3f5f\",\"gridcolor\":\"white\",\"linecolor\":\"white\",\"minorgridcolor\":\"white\",\"startlinecolor\":\"#2a3f5f\"},\"type\":\"carpet\"}],\"table\":[{\"cells\":{\"fill\":{\"color\":\"#EBF0F8\"},\"line\":{\"color\":\"white\"}},\"header\":{\"fill\":{\"color\":\"#C8D4E3\"},\"line\":{\"color\":\"white\"}},\"type\":\"table\"}],\"barpolar\":[{\"marker\":{\"line\":{\"color\":\"#E5ECF6\",\"width\":0.5},\"pattern\":{\"fillmode\":\"overlay\",\"size\":10,\"solidity\":0.2}},\"type\":\"barpolar\"}],\"pie\":[{\"automargin\":true,\"type\":\"pie\"}]},\"layout\":{\"autotypenumbers\":\"strict\",\"colorway\":[\"#636efa\",\"#EF553B\",\"#00cc96\",\"#ab63fa\",\"#FFA15A\",\"#19d3f3\",\"#FF6692\",\"#B6E880\",\"#FF97FF\",\"#FECB52\"],\"font\":{\"color\":\"#2a3f5f\"},\"hovermode\":\"closest\",\"hoverlabel\":{\"align\":\"left\"},\"paper_bgcolor\":\"white\",\"plot_bgcolor\":\"#E5ECF6\",\"polar\":{\"bgcolor\":\"#E5ECF6\",\"angularaxis\":{\"gridcolor\":\"white\",\"linecolor\":\"white\",\"ticks\":\"\"},\"radialaxis\":{\"gridcolor\":\"white\",\"linecolor\":\"white\",\"ticks\":\"\"}},\"ternary\":{\"bgcolor\":\"#E5ECF6\",\"aaxis\":{\"gridcolor\":\"white\",\"linecolor\":\"white\",\"ticks\":\"\"},\"baxis\":{\"gridcolor\":\"white\",\"linecolor\":\"white\",\"ticks\":\"\"},\"caxis\":{\"gridcolor\":\"white\",\"linecolor\":\"white\",\"ticks\":\"\"}},\"coloraxis\":{\"colorbar\":{\"outlinewidth\":0,\"ticks\":\"\"}},\"colorscale\":{\"sequential\":[[0.0,\"#0d0887\"],[0.1111111111111111,\"#46039f\"],[0.2222222222222222,\"#7201a8\"],[0.3333333333333333,\"#9c179e\"],[0.4444444444444444,\"#bd3786\"],[0.5555555555555556,\"#d8576b\"],[0.6666666666666666,\"#ed7953\"],[0.7777777777777778,\"#fb9f3a\"],[0.8888888888888888,\"#fdca26\"],[1.0,\"#f0f921\"]],\"sequentialminus\":[[0.0,\"#0d0887\"],[0.1111111111111111,\"#46039f\"],[0.2222222222222222,\"#7201a8\"],[0.3333333333333333,\"#9c179e\"],[0.4444444444444444,\"#bd3786\"],[0.5555555555555556,\"#d8576b\"],[0.6666666666666666,\"#ed7953\"],[0.7777777777777778,\"#fb9f3a\"],[0.8888888888888888,\"#fdca26\"],[1.0,\"#f0f921\"]],\"diverging\":[[0,\"#8e0152\"],[0.1,\"#c51b7d\"],[0.2,\"#de77ae\"],[0.3,\"#f1b6da\"],[0.4,\"#fde0ef\"],[0.5,\"#f7f7f7\"],[0.6,\"#e6f5d0\"],[0.7,\"#b8e186\"],[0.8,\"#7fbc41\"],[0.9,\"#4d9221\"],[1,\"#276419\"]]},\"xaxis\":{\"gridcolor\":\"white\",\"linecolor\":\"white\",\"ticks\":\"\",\"title\":{\"standoff\":15},\"zerolinecolor\":\"white\",\"automargin\":true,\"zerolinewidth\":2},\"yaxis\":{\"gridcolor\":\"white\",\"linecolor\":\"white\",\"ticks\":\"\",\"title\":{\"standoff\":15},\"zerolinecolor\":\"white\",\"automargin\":true,\"zerolinewidth\":2},\"scene\":{\"xaxis\":{\"backgroundcolor\":\"#E5ECF6\",\"gridcolor\":\"white\",\"linecolor\":\"white\",\"showbackground\":true,\"ticks\":\"\",\"zerolinecolor\":\"white\",\"gridwidth\":2},\"yaxis\":{\"backgroundcolor\":\"#E5ECF6\",\"gridcolor\":\"white\",\"linecolor\":\"white\",\"showbackground\":true,\"ticks\":\"\",\"zerolinecolor\":\"white\",\"gridwidth\":2},\"zaxis\":{\"backgroundcolor\":\"#E5ECF6\",\"gridcolor\":\"white\",\"linecolor\":\"white\",\"showbackground\":true,\"ticks\":\"\",\"zerolinecolor\":\"white\",\"gridwidth\":2}},\"shapedefaults\":{\"line\":{\"color\":\"#2a3f5f\"}},\"annotationdefaults\":{\"arrowcolor\":\"#2a3f5f\",\"arrowhead\":0,\"arrowwidth\":1},\"geo\":{\"bgcolor\":\"white\",\"landcolor\":\"#E5ECF6\",\"subunitcolor\":\"white\",\"showland\":true,\"showlakes\":true,\"lakecolor\":\"white\"},\"title\":{\"x\":0.05},\"mapbox\":{\"style\":\"light\"}}},\"mapbox\":{\"domain\":{\"x\":[0.0,1.0],\"y\":[0.0,1.0]},\"center\":{\"lat\":7.125741831237287,\"lon\":-73.12511485894565},\"zoom\":12,\"style\":\"open-street-map\"},\"coloraxis\":{\"colorbar\":{\"title\":{\"text\":\"nota_ia\"}},\"colorscale\":[[0.0,\"#0d0887\"],[0.1111111111111111,\"#46039f\"],[0.2222222222222222,\"#7201a8\"],[0.3333333333333333,\"#9c179e\"],[0.4444444444444444,\"#bd3786\"],[0.5555555555555556,\"#d8576b\"],[0.6666666666666666,\"#ed7953\"],[0.7777777777777778,\"#fb9f3a\"],[0.8888888888888888,\"#fdca26\"],[1.0,\"#f0f921\"]]},\"legend\":{\"tracegroupgap\":0},\"margin\":{\"t\":0,\"r\":0,\"l\":0,\"b\":0},\"height\":600,\"width\":800},                        {\"responsive\": true}                    ).then(function(){\n",
              "                            \n",
              "var gd = document.getElementById('8e02dd3c-9966-4833-a9b9-a90536d15385');\n",
              "var x = new MutationObserver(function (mutations, observer) {{\n",
              "        var display = window.getComputedStyle(gd).display;\n",
              "        if (!display || display === 'none') {{\n",
              "            console.log([gd, 'removed!']);\n",
              "            Plotly.purge(gd);\n",
              "            observer.disconnect();\n",
              "        }}\n",
              "}});\n",
              "\n",
              "// Listen for the removal of the full notebook cells\n",
              "var notebookContainer = gd.closest('#notebook-container');\n",
              "if (notebookContainer) {{\n",
              "    x.observe(notebookContainer, {childList: true});\n",
              "}}\n",
              "\n",
              "// Listen for the clearing of the current output cell\n",
              "var outputEl = gd.closest('.output');\n",
              "if (outputEl) {{\n",
              "    x.observe(outputEl, {childList: true});\n",
              "}}\n",
              "\n",
              "                        })                };                            </script>        </div>\n",
              "</body>\n",
              "</html>"
            ]
          },
          "metadata": {}
        }
      ]
    },
    {
      "cell_type": "markdown",
      "source": [
        "## <font color=\"red\">5.5 Visualización de Nuevas Características\n",
        "### <font color=\"blue\">5.5.1 Gráfico de características temporales y relaciones\n"
      ],
      "metadata": {
        "id": "ynnqul4OGAVa"
      }
    },
    {
      "cell_type": "code",
      "source": [
        "import seaborn as sns\n",
        "import matplotlib.pyplot as plt\n",
        "\n",
        "# Gráfico de Total por Mes\n",
        "sns.barplot(x=\"Mes\", y=\"Total\", data=data)\n",
        "plt.title(\"Total de Ventas por Mes\")\n",
        "plt.show()\n"
      ],
      "metadata": {
        "collapsed": true,
        "colab": {
          "base_uri": "https://localhost:8080/",
          "height": 472
        },
        "id": "PV8rgAeuGFui",
        "outputId": "841105c0-1495-4891-ec78-9ad830104267"
      },
      "execution_count": null,
      "outputs": [
        {
          "output_type": "display_data",
          "data": {
            "text/plain": [
              "<Figure size 640x480 with 1 Axes>"
            ],
            "image/png": "[encoded data removed]"
          },
          "metadata": {}
        }
      ]
    },
    {
      "cell_type": "markdown",
      "source": [
        "### <font color=\"blue\">5.5.2 Gráfico de distribución geoespacial\n"
      ],
      "metadata": {
        "id": "uomni15xGIWy"
      }
    },
    {
      "cell_type": "code",
      "source": [
        "# Gráfico de puntos geográficos\n",
        "sns.scatterplot(x=\"Longitud\", y=\"Latitud\", size=\"Distancia_km\", data=data_geo, legend=False)\n",
        "plt.title(\"Distribución Geoespacial\")\n",
        "plt.show()\n"
      ],
      "metadata": {
        "collapsed": true,
        "colab": {
          "base_uri": "https://localhost:8080/",
          "height": 472
        },
        "id": "xuB4cUSQGK6i",
        "outputId": "459e1c42-3693-45d4-fd9e-8b74fd2fe638"
      },
      "execution_count": null,
      "outputs": [
        {
          "output_type": "display_data",
          "data": {
            "text/plain": [
              "<Figure size 640x480 with 1 Axes>"
            ],
            "image/png": "[encoded data removed]"
          },
          "metadata": {}
        }
      ]
    },
    {
      "cell_type": "code",
      "source": [
        "# prompt: Necesito un programa que me calcule la distancia desde la UNAB bucaramanga hasta la carrera 39 n32-64 bucaramanga\n",
        "\n",
        "from geopy.geocoders import Nominatim\n",
        "from geopy.distance import geodesic\n",
        "\n",
        "def calcular_distancia(origen, destino):\n",
        "  geolocator = Nominatim(user_agent=\"my_geocoder\")\n",
        "\n",
        "  try:\n",
        "    location_origen = geolocator.geocode(origen)\n",
        "    location_destino = geolocator.geocode(destino)\n",
        "\n",
        "    if location_origen and location_destino:\n",
        "      coord_origen = (location_origen.latitude, location_origen.longitude)\n",
        "      coord_destino = (location_destino.latitude, location_destino.longitude)\n",
        "      distancia = geodesic(coord_origen, coord_destino).kilometers\n",
        "      return distancia\n",
        "    else:\n",
        "      return \"No se pudo encontrar la ubicación.\"\n",
        "  except Exception as e:\n",
        "    return f\"Error: {e}\"\n",
        "\n",
        "origen = \"Universidad Autónoma de Bucaramanga, Bucaramanga\"\n",
        "destino = \"Carrera 39 # 32-64, Bucaramanga\"\n",
        "\n",
        "distancia = calcular_distancia(origen, destino)\n",
        "print(f\"La distancia entre {origen} y {destino} es de {distancia} kilómetros.\")\n"
      ],
      "metadata": {
        "id": "dkGT5KnLoDE9",
        "outputId": "962f9a17-7fda-4235-db76-156b3159fd3a",
        "colab": {
          "base_uri": "https://localhost:8080/"
        }
      },
      "execution_count": 5,
      "outputs": [
        {
          "output_type": "stream",
          "name": "stderr",
          "text": [
            "WARNING:urllib3.connectionpool:Retrying (Retry(total=1, connect=None, read=None, redirect=None, status=None)) after connection broken by 'ReadTimeoutError(\"HTTPSConnectionPool(host='nominatim.openstreetmap.org', port=443): Read timed out. (read timeout=1)\")': /search?q=Carrera+39+%23+32-64%2C+Bucaramanga&format=json&limit=1\n",
            "WARNING:urllib3.connectionpool:Retrying (Retry(total=0, connect=None, read=None, redirect=None, status=None)) after connection broken by 'ReadTimeoutError(\"HTTPSConnectionPool(host='nominatim.openstreetmap.org', port=443): Read timed out. (read timeout=1)\")': /search?q=Carrera+39+%23+32-64%2C+Bucaramanga&format=json&limit=1\n"
          ]
        },
        {
          "output_type": "stream",
          "name": "stdout",
          "text": [
            "La distancia entre Universidad Autónoma de Bucaramanga, Bucaramanga y Carrera 39 # 32-64, Bucaramanga es de 0.20716327178873115 kilómetros.\n"
          ]
        }
      ]
    }
  ]
}